{
 "cells": [
  {
   "cell_type": "markdown",
   "id": "064a14d4-1e9f-40fe-a925-c9a202a37090",
   "metadata": {},
   "source": [
    "### Intro To NumPy:\n",
    "NumPy, which stands for Numerical Python, is a powerful library for numerical computing in Python. It provides support for large, multi-dimensional arrays and matrices, along with a collection of mathematical functions to operate on these elements. It extends the base capabilities of python to add a richer data set including more numeric types, vectors, matrices, and many matrix functions. NumPy and python work together fairly seamlessly. Python arithmetic operators work on NumPy data types and many NumPy functions will accept python data types."
   ]
  },
  {
   "cell_type": "code",
   "execution_count": 91,
   "id": "9c9e9ea0-8ee5-45af-a517-00a416e2c069",
   "metadata": {},
   "outputs": [],
   "source": [
    "import numpy as np    # it is an unofficial standard to use np for numpy\n",
    "import time"
   ]
  },
  {
   "cell_type": "markdown",
   "id": "6067b0b4-29e2-40c3-9cd3-cdf185e8f10d",
   "metadata": {},
   "source": [
    "### Vectors\n",
    "Vectors, as you will use them in this course, are ordered arrays of numbers. A vector does not, for example, contain both characters and numbers. The number of elements in the array is often referred to as the dimension though mathematicians may prefer rank."
   ]
  },
  {
   "cell_type": "markdown",
   "id": "7e6102bd-aeb8-4edd-9dae-48ba551fbe8c",
   "metadata": {},
   "source": [
    "### NumPy Arrays\n",
    "NumPy's basic data structure is an indexable, n-dimensional array containing elements of the same type (dtype)."
   ]
  },
  {
   "cell_type": "code",
   "execution_count": 92,
   "id": "14a82f61-cb29-4581-be5a-0bfac6c00d2b",
   "metadata": {},
   "outputs": [
    {
     "name": "stdout",
     "output_type": "stream",
     "text": [
      "np.zeros(4):\n",
      "a = [0. 0. 0. 0.],\n",
      "a's shape = (4,),\n",
      "a's data type = float64\n",
      "\n",
      "np.zeros((4,)):\n",
      "a = [0. 0. 0. 0.],\n",
      "a's shape = (4,),\n",
      "a's data type = float64\n",
      "\n",
      "np.random.random_sample(4):\n",
      "a = [0.20451517 0.27931367 0.43080526 0.67084387],\n",
      "a' shape = (4,),\n",
      "a's data type = float64\n"
     ]
    }
   ],
   "source": [
    "#Vector Creation\n",
    "\n",
    "a = np.zeros(4);                             print(f\"np.zeros(4):\\na = {a},\\na's shape = {a.shape},\\na's data type = {a.dtype}\\n\")\n",
    "a = np.zeros((4,));                          print(f\"np.zeros((4,)):\\na = {a},\\na's shape = {a.shape},\\na's data type = {a.dtype}\\n\")\n",
    "a = np.random.random_sample(4);             print(f\"np.random.random_sample(4):\\na = {a},\\na' shape = {a.shape},\\na's data type = {a.dtype}\")"
   ]
  },
  {
   "cell_type": "code",
   "execution_count": 93,
   "id": "b8eefc52-9e00-4064-9c99-53cbed7c9a0e",
   "metadata": {},
   "outputs": [
    {
     "name": "stdout",
     "output_type": "stream",
     "text": [
      "NumPy Array: [1 2 3 4], Array Shape: (4,), Array data type: int32\n"
     ]
    }
   ],
   "source": [
    "#manual method\n",
    "arr = np.array([1,2,3,4]);          print(f\"NumPy Array: {arr}, Array Shape: {arr.shape}, Array data type: {arr.dtype}\")"
   ]
  },
  {
   "cell_type": "markdown",
   "id": "5232b7a7-dd98-4d00-859e-4fd926c65efc",
   "metadata": {},
   "source": [
    "### Shape and Reshape Numpy Arrays:\n",
    "The shape of an array defines its dimensions. Learn how to manipulate the shape of NumPy arrays and reshape them according to your requirements."
   ]
  },
  {
   "cell_type": "code",
   "execution_count": 124,
   "id": "7ac65192-f09e-41d7-8496-445735c68db1",
   "metadata": {},
   "outputs": [
    {
     "name": "stdout",
     "output_type": "stream",
     "text": [
      "Original Array: [1 2 3 4 5 6 7 8 9]\n",
      "Reshaped Array:\n",
      " [[1 2 3]\n",
      " [4 5 6]\n",
      " [7 8 9]]\n",
      " Reshaped Array Shape: (3, 3)\n"
     ]
    }
   ],
   "source": [
    "# Shape and Reshape\n",
    "arr = np.array([1, 2, 3, 4, 5, 6, 7, 8, 9])\n",
    "reshaped_arr = arr.reshape(-1, 3)\n",
    "print(\"Original Array:\", arr)\n",
    "print(f\"Reshaped Array:\\n {reshaped_arr}\\n Reshaped Array Shape: {reshaped_arr.shape}\")"
   ]
  },
  {
   "cell_type": "markdown",
   "id": "0b3749c0-a99e-4bea-82e7-df0ccbc32555",
   "metadata": {},
   "source": [
    "### Sorting Numpy Arrays The Right Way:\n",
    "NumPy provides efficient functions for sorting arrays. Understand the various sorting algorithms and how to use them appropriately."
   ]
  },
  {
   "cell_type": "code",
   "execution_count": 109,
   "id": "6d76015e-237e-4a4c-9d3e-e12531c83bb3",
   "metadata": {},
   "outputs": [
    {
     "name": "stdout",
     "output_type": "stream",
     "text": [
      "Original Array: [3 1 4 1 5 9 2 6 5 3 5]\n",
      "Sorted Array: [1 1 2 3 3 4 5 5 5 6 9]\n"
     ]
    }
   ],
   "source": [
    "# Sorting a NumPy array\n",
    "arr = np.array([3, 1, 4, 1, 5, 9, 2, 6, 5, 3, 5])\n",
    "sorted_arr = np.sort(arr)\n",
    "print(\"Original Array:\", arr)\n",
    "print(\"Sorted Array:\", sorted_arr)"
   ]
  },
  {
   "cell_type": "markdown",
   "id": "6be62a68-547a-4696-8ca1-3cab7b680132",
   "metadata": {},
   "source": [
    "### Searching Numpy Arrays The Easy Way:\n",
    "Learn about techniques for searching elements in NumPy arrays, including the use of boolean indexing and searchsorted function."
   ]
  },
  {
   "cell_type": "code",
   "execution_count": 110,
   "id": "c2f28262-abe7-4e33-b9f6-44729912a225",
   "metadata": {},
   "outputs": [
    {
     "name": "stdout",
     "output_type": "stream",
     "text": [
      "Original Array: [1 2 3 4 5]\n",
      "Index of 3: [2]\n"
     ]
    }
   ],
   "source": [
    "# Searching in a NumPy array\n",
    "arr = np.array([1, 2, 3, 4, 5])\n",
    "index = np.where(arr == 3)\n",
    "print(\"Original Array:\", arr)\n",
    "print(\"Index of 3:\", index[0])"
   ]
  },
  {
   "cell_type": "markdown",
   "id": "d3352e3c-6e53-4644-bd72-0e02a2071b55",
   "metadata": {},
   "source": [
    "### How To Filter Numpy Arrays:\n",
    "Filtering allows us to extract specific elements from an array based on certain conditions. Understand the techniques for filtering NumPy arrays effectively."
   ]
  },
  {
   "cell_type": "code",
   "execution_count": 111,
   "id": "4cfc3d38-1b33-4b26-80e9-b41ef7fdfabf",
   "metadata": {},
   "outputs": [
    {
     "name": "stdout",
     "output_type": "stream",
     "text": [
      "Original Array: [1 2 3 4 5]\n",
      "Filtered Array: [3 4 5]\n"
     ]
    }
   ],
   "source": [
    "# Filtering in a NumPy array\n",
    "arr = np.array([1, 2, 3, 4, 5])\n",
    "filtered_arr = arr[arr > 2]\n",
    "print(\"Original Array:\", arr)\n",
    "print(\"Filtered Array:\", filtered_arr)"
   ]
  },
  {
   "cell_type": "markdown",
   "id": "33e62c8a-14ce-4024-8225-e3430d1a5c74",
   "metadata": {},
   "source": [
    "### Mean, Meadian, and Standard Deviation Calculation"
   ]
  },
  {
   "cell_type": "code",
   "execution_count": 112,
   "id": "86c6a4ca-ca62-4176-8e10-d14a21cfe9bd",
   "metadata": {},
   "outputs": [
    {
     "name": "stdout",
     "output_type": "stream",
     "text": [
      "Mean: 5.363636363636363\n",
      "Median: 6.0\n",
      "Standard Deviation: 1.4142135623730951\n"
     ]
    }
   ],
   "source": [
    "# Mean, Median, and Standard Deviation Calculation with NumPy\n",
    "arr = np.array([1, 2, 3, 4, 5, 6, 6, 7, 8, 8, 9])\n",
    "\n",
    "# Mean calculation\n",
    "mean_value = np.mean(arr)\n",
    "print(\"Mean:\", mean_value)\n",
    "\n",
    "# Median calculation\n",
    "median_value = np.median(arr)\n",
    "print(\"Median:\", median_value)\n",
    "\n",
    "#Standard Deviation\n",
    "arr = np.array([1, 2, 3, 4, 5])\n",
    "std_deviation = np.std(arr)\n",
    "print(\"Standard Deviation:\", std_deviation)"
   ]
  },
  {
   "cell_type": "markdown",
   "id": "0510e4db-bf6e-4422-bfa3-cc011ab11f09",
   "metadata": {},
   "source": [
    "### Indexing and Slicing\n",
    "**Indexing:** Indexing means referring to an element of an array by its position within the array. \n",
    "\n",
    "**Slicing:** Slicing means getting a subset of elements from an array based on their indices."
   ]
  },
  {
   "cell_type": "code",
   "execution_count": 94,
   "id": "283eab57-5b63-4358-8895-05183675914a",
   "metadata": {},
   "outputs": [
    {
     "name": "stdout",
     "output_type": "stream",
     "text": [
      "[0 1 2 3 4 5 6 7 8 9]\n",
      "a[2].shape: () a[2] = 2\n",
      "\n",
      "a[-1] = 9\n",
      "\n",
      "The error message you'll see is:\n",
      "index 10 is out of bounds for axis 0 with size 10\n"
     ]
    }
   ],
   "source": [
    "#vector indexing\n",
    "a = np.arange(10)\n",
    "print(a)\n",
    "\n",
    "#access an elememt\n",
    "print(f\"a[2].shape: {a[2].shape} a[2] = {a[2]}\")#Accessing an element returns a scalar \n",
    "\n",
    "#access the last element\n",
    "print(f\"\\na[-1] = {a[-1]}\")\n",
    "\n",
    "#outside range of the vector\n",
    "try:\n",
    "    c = a[10]\n",
    "except Exception as e:\n",
    "    print(\"\\nThe error message you'll see is:\")\n",
    "    print(e)"
   ]
  },
  {
   "cell_type": "code",
   "execution_count": 95,
   "id": "dcf6f532-5ecb-40d9-bf22-6f7168b7c677",
   "metadata": {},
   "outputs": [
    {
     "name": "stdout",
     "output_type": "stream",
     "text": [
      "a                  =  [0 1 2 3 4 5 6 7 8 9]\n",
      "a[2:7] or a[2:7:1] =  [2 3 4 5 6]\n",
      "a[2:7:2]           =  [2 4 6]\n",
      "a[3:]              =  [3 4 5 6 7 8 9]\n",
      "a[:3]              =  [0 1 2]\n",
      "a[:]               =  [0 1 2 3 4 5 6 7 8 9]\n"
     ]
    }
   ],
   "source": [
    "#Slicing\n",
    "a = np.arange(10)\n",
    "print(f\"a                  =  {a}\")\n",
    "\n",
    "#5 consecutive elements (start:stop:step) -> start to stop includng stop element but not the start element\n",
    "c = a[2:7];     print(\"a[2:7] or a[2:7:1] = \", c)\n",
    "\n",
    "#3 elements seperated by two\n",
    "c = a[2:7:2];     print(\"a[2:7:2]           = \", c)\n",
    "\n",
    "#all elements at and above index 3\n",
    "c = a[3:];        print(\"a[3:]              = \", c)\n",
    "\n",
    "#all elements below index 3\n",
    "c = a[:3];        print(\"a[:3]              = \", c)\n",
    "\n",
    "#all elements\n",
    "c = a[:];         print(\"a[:]               = \", c);"
   ]
  },
  {
   "cell_type": "markdown",
   "id": "1fa6e26b-5c6e-4f66-a008-5234ce6f4388",
   "metadata": {},
   "source": [
    "### Single Vector Operations"
   ]
  },
  {
   "cell_type": "code",
   "execution_count": 96,
   "id": "401efd65-4251-44ce-89b6-747d29c65081",
   "metadata": {},
   "outputs": [
    {
     "name": "stdout",
     "output_type": "stream",
     "text": [
      "a             : [1 2 3 4]\n",
      "b = -a        : [-1 -2 -3 -4]\n",
      "b = np.sum(a) : 10\n",
      "b = np.mean(a): 2.5\n",
      "b = a**2      : [ 1  4  9 16]\n"
     ]
    }
   ],
   "source": [
    "a= np.array([1,2,3,4])\n",
    "print(f\"a             : {a}\")\n",
    "\n",
    "#negate all the elements of the vector array\n",
    "b = -a\n",
    "print(f\"b = -a        : {b}\")\n",
    "\n",
    "#sum of all elements returns a scalar\n",
    "b = np.sum(a)\n",
    "print(f\"b = np.sum(a) : {b}\")\n",
    "\n",
    "#mean\n",
    "b = np.mean(a)\n",
    "print(f\"b = np.mean(a): {b}\")\n",
    "\n",
    "#square of all the elements\n",
    "b = a**2\n",
    "print(f\"b = a**2      : {b}\")"
   ]
  },
  {
   "cell_type": "markdown",
   "id": "5ba92e36-02c7-4979-9658-a86e3448c835",
   "metadata": {},
   "source": [
    "### Vector Vector element-wise operations"
   ]
  },
  {
   "cell_type": "code",
   "execution_count": 97,
   "id": "487ca80e-314c-46e6-91a7-9444b0f266bf",
   "metadata": {},
   "outputs": [
    {
     "name": "stdout",
     "output_type": "stream",
     "text": [
      "Binary operators work element wise: [0 0 6 8]\n"
     ]
    }
   ],
   "source": [
    "a = np.array([ 1, 2, 3, 4])\n",
    "b = np.array([-1,-2, 3, 4])\n",
    "print(f\"Binary operators work element wise: {a + b}\")"
   ]
  },
  {
   "cell_type": "code",
   "execution_count": 98,
   "id": "6486aca8-f16b-484b-9678-7b04492f53f8",
   "metadata": {},
   "outputs": [
    {
     "name": "stdout",
     "output_type": "stream",
     "text": [
      "The error message you'll see is:\n",
      "operands could not be broadcast together with shapes (4,) (2,) \n"
     ]
    }
   ],
   "source": [
    "#try a mismatched vector operation\n",
    "c = np.array([1,2])\n",
    "try:\n",
    "    d = a + c\n",
    "except Exception as e:\n",
    "    print(\"The error message you'll see is:\")\n",
    "    print(e)"
   ]
  },
  {
   "cell_type": "markdown",
   "id": "2393ee0a-6b46-4027-a117-5cf8c7fe3291",
   "metadata": {},
   "source": [
    "### Scalar Vector dot product\n",
    "Vectors can be 'scaled' by scalar values. A scalar value is just a number. The scalar multiplies all the elements of the vector."
   ]
  },
  {
   "cell_type": "code",
   "execution_count": 99,
   "id": "4a87208d-4936-47a5-b146-ba8f9a36206d",
   "metadata": {},
   "outputs": [
    {
     "name": "stdout",
     "output_type": "stream",
     "text": [
      "b = 5 * a : [ 5 10 15 20]\n"
     ]
    }
   ],
   "source": [
    "a = np.array([1, 2, 3, 4])\n",
    "\n",
    "# multiply a by a scalar\n",
    "b = 5 * a \n",
    "print(f\"b = 5 * a : {b}\")"
   ]
  },
  {
   "cell_type": "markdown",
   "id": "01fe7d62-a8bf-4700-8498-d53f7649dec3",
   "metadata": {},
   "source": [
    "### Vector Vector dot product\n",
    "The dot product multiplies the values in two vectors element-wise and then sums the result. Vector dot product requires the dimensions of the two vectors to be the same. \n",
    "\n",
    "**Using a for loop**, implement a function which returns the dot product of two vectors. The function to return given inputs $a$ and $b$:\r\n",
    "$$ x = \\sum_{i=0}^{n-1} a_i b_i $$\r\n",
    "Assume both `a` and `b` are the same shape."
   ]
  },
  {
   "cell_type": "code",
   "execution_count": 100,
   "id": "41347800-eb83-4b53-b23c-326f31ac5087",
   "metadata": {},
   "outputs": [],
   "source": [
    "def my_dot(a,b):\n",
    "    \"\"\"\n",
    "   Compute the dot product of two vectors\n",
    " \n",
    "    Args:\n",
    "      a (ndarray (n,)):  input vector \n",
    "      b (ndarray (n,)):  input vector with same dimension as a\n",
    "    \n",
    "    Returns:\n",
    "      x (scalar): \n",
    "    \"\"\"\n",
    "    x = 0\n",
    "    for i in range(a.shape[0]):\n",
    "        x = x + a[i] * b[i]\n",
    "    return x"
   ]
  },
  {
   "cell_type": "code",
   "execution_count": 101,
   "id": "b12ff315-5c7c-494e-b9ba-dcac02442efa",
   "metadata": {},
   "outputs": [
    {
     "name": "stdout",
     "output_type": "stream",
     "text": [
      "my_dot(a,b) = 32\n"
     ]
    }
   ],
   "source": [
    "# self designed dot produt using for loop\n",
    "a = np.array([ 1, 2, 3, 4])\n",
    "b = np.array([-1, 4, 3, 4])\n",
    "\n",
    "#start  = timer()\n",
    "print(f\"my_dot(a,b) = {my_dot(a,b)}\")\n",
    "#end = timer()\n",
    "\n",
    "#print(f\"Time of execution using for loop = {end-start}\")"
   ]
  },
  {
   "cell_type": "code",
   "execution_count": 102,
   "id": "baeebd96-e7f8-44e3-8190-263ec974b529",
   "metadata": {},
   "outputs": [
    {
     "name": "stdout",
     "output_type": "stream",
     "text": [
      "np.dot(a,b) = 32\n"
     ]
    }
   ],
   "source": [
    "a = np.array([ 1, 2, 3, 4])\n",
    "b = np.array([-1, 4, 3, 4])\n",
    "\n",
    "#start = timer()\n",
    "print(f\"np.dot(a,b) = {np.dot(a,b)}\")\n",
    "#end = timer()\n",
    "\n",
    "#print(f\"Time of execution using inbuilt vector dot product function = {end-start}\")"
   ]
  },
  {
   "cell_type": "markdown",
   "id": "d7574aec-2581-4c7e-b84d-9ccdeba0d0e0",
   "metadata": {},
   "source": [
    "### The Need for Speed: vector vs for loop\n",
    "We utilized the NumPy library because it improves speed memory efficiency."
   ]
  },
  {
   "cell_type": "code",
   "execution_count": 103,
   "id": "a3bffcd8-807c-47bb-b3e5-d25779933a16",
   "metadata": {},
   "outputs": [],
   "source": [
    "#Timeit module provides a simple way to time small bits of Python code. \n",
    "#It has both a Command-Line Interface as well as a callable one.\n",
    "import timeit \n",
    "from timeit import default_timer as timer"
   ]
  },
  {
   "cell_type": "code",
   "execution_count": 107,
   "id": "47ff1b19-1555-4abe-826c-820f41dd036a",
   "metadata": {},
   "outputs": [
    {
     "name": "stdout",
     "output_type": "stream",
     "text": [
      "np.dot = 2501072.5817\n",
      "Vectorized version takes 7.1486 ms\n",
      "my_dot = 2501072.5817\n",
      "Loop version takes 1893.3546 ms\n"
     ]
    }
   ],
   "source": [
    "np.random.seed(1)\n",
    "a = np.random.rand(10000000)\n",
    "b = np.random.rand(10000000)\n",
    "\n",
    "start = timer()\n",
    "c = np.dot(a,b)\n",
    "end = timer()\n",
    "\n",
    "print(f\"np.dot = {c:.4f}\\nVectorized version takes {1000*(end-start):.4f} ms\")\n",
    "\n",
    "start = timer()\n",
    "c = my_dot(a,b)\n",
    "end = timer()\n",
    "\n",
    "print(f\"my_dot = {c:.4f}\\nLoop version takes {1000*(end-start):.4f} ms\")"
   ]
  },
  {
   "cell_type": "markdown",
   "id": "3d64da37-31b0-468f-8c12-d60931075b2f",
   "metadata": {},
   "source": [
    "So, vectorization provides a large speed up in this example. This is because NumPy makes better use of available data parallelism in the underlying hardware. GPU's and modern CPU's implement Single Instruction, Multiple Data (SIMD) pipelines allowing multiple operations to be issued in parallel. This is critical in Machine Learning where the data sets are often very large."
   ]
  },
  {
   "cell_type": "markdown",
   "id": "f296807a-3217-4fa1-9cc3-65426ea546d5",
   "metadata": {},
   "source": [
    "### Matrix Creation"
   ]
  },
  {
   "cell_type": "code",
   "execution_count": 114,
   "id": "22c8024b-6179-4d31-baf3-eb01499f055a",
   "metadata": {},
   "outputs": [
    {
     "name": "stdout",
     "output_type": "stream",
     "text": [
      "a shape = (1, 5)\n",
      "a = [[0. 0. 0. 0. 0.]]\n",
      "\n",
      "a shape = (2, 1)\n",
      "a = [[0.]\n",
      " [0.]]\n",
      "\n",
      "a shape = (1, 1)\n",
      "a = [[0.04997798]]\n"
     ]
    }
   ],
   "source": [
    "a = np.zeros((1, 5))                                       \n",
    "print(f\"a shape = {a.shape}\\na = {a}\\n\")                     \n",
    "\n",
    "a = np.zeros((2, 1))                                                                   \n",
    "print(f\"a shape = {a.shape}\\na = {a}\\n\") \n",
    "\n",
    "a = np.random.random_sample((1, 1))  \n",
    "print(f\"a shape = {a.shape}\\na = {a}\") "
   ]
  },
  {
   "cell_type": "code",
   "execution_count": 117,
   "id": "94613ca9-a542-4eb7-a4b9-5dd279ba3c9f",
   "metadata": {},
   "outputs": [
    {
     "name": "stdout",
     "output_type": "stream",
     "text": [
      "a shape = (3, 1)\n",
      "np.array: a = [[5]\n",
      " [4]\n",
      " [3]]\n",
      "a shape = (3, 1)\n",
      "np.array: a = [[5]\n",
      " [4]\n",
      " [3]]\n"
     ]
    }
   ],
   "source": [
    "# NumPy routines which allocate memory and fill with user specified values\n",
    "a = np.array([[5], [4], [3]]);   print(f\"a shape = {a.shape}\\nnp.array: a = {a}\")\n",
    "a = np.array([[5],   # One can also\n",
    "              [4],   # separate values\n",
    "              [3]]); #into separate rows\n",
    "print(f\"a shape = {a.shape}\\nnp.array: a = {a}\")"
   ]
  },
  {
   "cell_type": "markdown",
   "id": "edbd8e16-9209-4805-a019-1b21ab0e263c",
   "metadata": {},
   "source": [
    "### Operations on Matrices"
   ]
  },
  {
   "cell_type": "markdown",
   "id": "83e2ecb5-cc67-43b5-9c66-9269d5797a25",
   "metadata": {},
   "source": [
    "### Indexing"
   ]
  },
  {
   "cell_type": "code",
   "execution_count": 137,
   "id": "390a1332-a928-496b-ba94-1f22e76226fd",
   "metadata": {},
   "outputs": [
    {
     "name": "stdout",
     "output_type": "stream",
     "text": [
      "a.shape = (6, 2)\n",
      "a = [[ 0  1]\n",
      " [ 2  3]\n",
      " [ 4  5]\n",
      " [ 6  7]\n",
      " [ 8  9]\n",
      " [10 11]]\n",
      "\n",
      "a[2,0].shape = ()\n",
      "a[2,0] = 4\n",
      "type(a[2,0]) = <class 'numpy.int32'>)\n",
      "\n",
      "a[2].shape = (2,)\n",
      "a[2] = [4 5]\n",
      "type(a[2]) = <class 'numpy.ndarray'>)\n"
     ]
    }
   ],
   "source": [
    "a = np.arange(12).reshape(-1,2)\n",
    "#Means the reshaped array should have strictly 2 columns and the\n",
    "#number of rows is figured out by dividing the length of the array with no. of columns\n",
    "print(f\"a.shape = {a.shape}\\na = {a}\\n\")\n",
    "\n",
    "print(f\"a[2,0].shape = {a[2,0].shape}\\na[2,0] = {a[2,0]}\\ntype(a[2,0]) = {type(a[2, 0])})\\n\")\n",
    "\n",
    "print(f\"a[2].shape = {a[2].shape}\\na[2] = {a[2]}\\ntype(a[2]) = {type(a[2])})\")"
   ]
  },
  {
   "cell_type": "markdown",
   "id": "5410519b-4929-4558-b76d-6ad64140304e",
   "metadata": {},
   "source": [
    "### Slicing"
   ]
  },
  {
   "cell_type": "code",
   "execution_count": 145,
   "id": "f56a9cd0-c740-4c90-b599-0792181dc9de",
   "metadata": {},
   "outputs": [
    {
     "name": "stdout",
     "output_type": "stream",
     "text": [
      "a = [[ 0  1  2  3  4  5  6  7  8  9]\n",
      " [10 11 12 13 14 15 16 17 18 19]]\n",
      "\n",
      "a[0, 2:7:1] = [2 3 4 5 6]\n",
      "a[0, 2:7:1].shape = [2 3 4 5 6]\n",
      "type(a[0, 2:7:1]) = <class 'numpy.ndarray'>\n",
      "\n",
      "a[:, 2:7:1] = [[ 2  3  4  5  6]\n",
      " [12 13 14 15 16]]\n",
      "a[:, 2:7:1].shape = (2, 5)\n",
      "type(a[:, 2:7:1]) = <class 'numpy.ndarray'>\n",
      "a[1, :] = [10 11 12 13 14 15 16 17 18 19]\n",
      "a[1, :].shape = [10 11 12 13 14 15 16 17 18 19]\n"
     ]
    }
   ],
   "source": [
    "a = np.arange(20).reshape(-1,10)\n",
    "print(f\"a = {a}\\n\")\n",
    "\n",
    "print(f\"a[0, 2:7:1] = {a[0, 2:7:1]}\\na[0, 2:7:1].shape = {a[0, 2:7:1]}\\ntype(a[0, 2:7:1]) = {type(a[0, 2:7:1])}\\n\")\n",
    "\n",
    "print(f\"a[:, 2:7:1] = {a[:, 2:7:1]}\\na[:, 2:7:1].shape = {a[:, 2:7:1].shape}\\ntype(a[:, 2:7:1]) = {type(a[:, 2:7:1])}\")\n",
    "\n",
    "print(f\"a[1, :] = {a[1, :]}\\na[1, :].shape = {a[1, :]}\")"
   ]
  },
  {
   "cell_type": "code",
   "execution_count": null,
   "id": "d591b2f2-71cd-4b5d-a75f-178295c944cb",
   "metadata": {},
   "outputs": [],
   "source": []
  }
 ],
 "metadata": {
  "kernelspec": {
   "display_name": "Python 3 (ipykernel)",
   "language": "python",
   "name": "python3"
  },
  "language_info": {
   "codemirror_mode": {
    "name": "ipython",
    "version": 3
   },
   "file_extension": ".py",
   "mimetype": "text/x-python",
   "name": "python",
   "nbconvert_exporter": "python",
   "pygments_lexer": "ipython3",
   "version": "3.12.0"
  }
 },
 "nbformat": 4,
 "nbformat_minor": 5
}
